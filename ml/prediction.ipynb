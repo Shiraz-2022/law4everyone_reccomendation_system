{
 "cells": [
  {
   "cell_type": "code",
   "execution_count": 1,
   "metadata": {},
   "outputs": [
    {
     "name": "stdout",
     "output_type": "stream",
     "text": [
      "Cosine Similarity Matrix:\n",
      "[[0.         0.62861856 0.         0.         0.         0.\n",
      "  0.         0.         0.         0.         0.         0.\n",
      "  0.         0.         0.        ]]\n"
     ]
    }
   ],
   "source": [
    "import numpy as np\n",
    "from scipy import spatial\n",
    "\n",
    "# Example data (replace this with your actual data from the database)\n",
    "users = ['user{}'.format(i) for i in range(1, 2)]  # Only user1 and user2 for this example\n",
    "posts = ['post{}'.format(i) for i in range(1, 16)]\n",
    "user_arrays = {\n",
    "    'user1': [5, 0, 0, 0, 0, 2, 1, 1, 0, 0, 0, 0],  # Adjusted user array with weights\n",
    "    'user2': [0, 0, 3, 0, 0, 0, 0, 0, 0, 0, 0, 0], \n",
    "    'user3': [1, 1, 3, 0, 1, 0, 0, 0, 0, 0, 0, 0],# Adjusted user array with weights\n",
    "}\n",
    "\n",
    "# Example posts with binary arrays (replace this with your actual data from the database)\n",
    "post_arrays = {\n",
    "    'post1': [0, 0, 1, 0, 0, 0, 0, 0, 0, 0, 0, 0],  # Example binary array for post1\n",
    "    'post2': [1, 0, 0, 1, 0, 0, 0, 0, 0, 0, 0, 0],\n",
    "    'post2': [1, 1, 0, 1, 0, 1, 0, 0, 0, 0, 0, 0], \n",
    "    'post2': [1, 1, 0, 1, 0, 0, 0, 0, 0, 0, 0, 0], \n",
    "    'post2': [1, 1, 0, 1, 0, 1, 0, 0, 0, 0, 0, 0], # Example binary array for post2\n",
    "    # Add more binary arrays for other posts\n",
    "}\n",
    "\n",
    "# Calculate cosine similarity\n",
    "def cosine_similarity(vec1, vec2):\n",
    "    if not vec1 or not vec2:\n",
    "        return 0  # Return 0 if either vector is empty\n",
    "    return 1 - spatial.distance.cosine(vec1, vec2)\n",
    "\n",
    "similarities = np.zeros((len(users), len(posts)))\n",
    "\n",
    "for user_idx, user in enumerate(users):\n",
    "    user_array = user_arrays.get(user, [])\n",
    "    for post_idx, post in enumerate(posts):\n",
    "        post_array = post_arrays.get(post, [])\n",
    "        similarities[user_idx, post_idx] = cosine_similarity(user_array, post_array)\n",
    "\n",
    "# Print similarity matrix\n",
    "print(\"Cosine Similarity Matrix:\")\n",
    "print(similarities)"
   ]
  }
 ],
 "metadata": {
  "kernelspec": {
   "display_name": "Python 3",
   "language": "python",
   "name": "python3"
  },
  "language_info": {
   "codemirror_mode": {
    "name": "ipython",
    "version": 3
   },
   "file_extension": ".py",
   "mimetype": "text/x-python",
   "name": "python",
   "nbconvert_exporter": "python",
   "pygments_lexer": "ipython3",
   "version": "3.11.4"
  }
 },
 "nbformat": 4,
 "nbformat_minor": 2
}
